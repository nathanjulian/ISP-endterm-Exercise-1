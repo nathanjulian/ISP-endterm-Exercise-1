{
 "cells": [
  {
   "cell_type": "code",
   "execution_count": 1,
   "metadata": {},
   "outputs": [
    {
     "name": "stdout",
     "output_type": "stream",
     "text": [
      "Requirement already satisfied: pyttsx3 in c:\\users\\natha\\anaconda3\\lib\\site-packages (2.90)\n",
      "Requirement already satisfied: pypiwin32; platform_system == \"Windows\" in c:\\users\\natha\\anaconda3\\lib\\site-packages (from pyttsx3) (223)\n",
      "Requirement already satisfied: pywin32; platform_system == \"Windows\" in c:\\users\\natha\\anaconda3\\lib\\site-packages (from pyttsx3) (227)\n",
      "Requirement already satisfied: comtypes; platform_system == \"Windows\" in c:\\users\\natha\\anaconda3\\lib\\site-packages (from pyttsx3) (1.1.7)\n",
      "Requirement already satisfied: pyttsx3 in c:\\users\\natha\\anaconda3\\lib\\site-packages (2.90)\n",
      "Requirement already satisfied: pywin32 in c:\\users\\natha\\anaconda3\\lib\\site-packages (227)\n",
      "Requirement already satisfied: comtypes; platform_system == \"Windows\" in c:\\users\\natha\\anaconda3\\lib\\site-packages (from pyttsx3) (1.1.7)\n",
      "Requirement already satisfied: pypiwin32; platform_system == \"Windows\" in c:\\users\\natha\\anaconda3\\lib\\site-packages (from pyttsx3) (223)\n",
      "Requirement already satisfied: pyttsx3 in c:\\users\\natha\\anaconda3\\lib\\site-packages (2.90)\n",
      "Requirement already satisfied: numpy in c:\\users\\natha\\anaconda3\\lib\\site-packages (1.19.2)\n",
      "Requirement already satisfied: pywin32; platform_system == \"Windows\" in c:\\users\\natha\\anaconda3\\lib\\site-packages (from pyttsx3) (227)\n",
      "Requirement already satisfied: comtypes; platform_system == \"Windows\" in c:\\users\\natha\\anaconda3\\lib\\site-packages (from pyttsx3) (1.1.7)\n",
      "Requirement already satisfied: pypiwin32; platform_system == \"Windows\" in c:\\users\\natha\\anaconda3\\lib\\site-packages (from pyttsx3) (223)\n",
      "Requirement already satisfied: pyttsx3 in c:\\users\\natha\\anaconda3\\lib\\site-packages (2.90)\n",
      "Requirement already satisfied: opencv-python in c:\\users\\natha\\anaconda3\\lib\\site-packages (4.5.5.62)\n",
      "Requirement already satisfied: pypiwin32; platform_system == \"Windows\" in c:\\users\\natha\\anaconda3\\lib\\site-packages (from pyttsx3) (223)\n",
      "Requirement already satisfied: comtypes; platform_system == \"Windows\" in c:\\users\\natha\\anaconda3\\lib\\site-packages (from pyttsx3) (1.1.7)\n",
      "Requirement already satisfied: pywin32; platform_system == \"Windows\" in c:\\users\\natha\\anaconda3\\lib\\site-packages (from pyttsx3) (227)\n",
      "Requirement already satisfied: numpy>=1.14.5; python_version >= \"3.7\" in c:\\users\\natha\\anaconda3\\lib\\site-packages (from opencv-python) (1.19.2)\n"
     ]
    }
   ],
   "source": [
    "import sys\n",
    "!{sys.executable} -m pip install pyttsx3\n",
    "!{sys.executable} -m pip install pyttsx3 pywin32\n",
    "!{sys.executable} -m pip install pyttsx3 numpy\n",
    "!{sys.executable} -m pip install pyttsx3 opencv-python"
   ]
  },
  {
   "cell_type": "code",
   "execution_count": 1,
   "metadata": {},
   "outputs": [
    {
     "ename": "error",
     "evalue": "OpenCV(4.5.5) D:\\a\\opencv-python\\opencv-python\\opencv\\modules\\imgproc\\src\\color.cpp:182: error: (-215:Assertion failed) !_src.empty() in function 'cv::cvtColor'\n",
     "output_type": "error",
     "traceback": [
      "\u001b[1;31m---------------------------------------------------------------------------\u001b[0m",
      "\u001b[1;31merror\u001b[0m                                     Traceback (most recent call last)",
      "\u001b[1;32m<ipython-input-1-cdfcadeb7792>\u001b[0m in \u001b[0;36m<module>\u001b[1;34m\u001b[0m\n\u001b[0;32m     20\u001b[0m \u001b[1;33m\u001b[0m\u001b[0m\n\u001b[0;32m     21\u001b[0m     \u001b[1;31m# Gray conversion and noise reduction (smoothening)\u001b[0m\u001b[1;33m\u001b[0m\u001b[1;33m\u001b[0m\u001b[1;33m\u001b[0m\u001b[0m\n\u001b[1;32m---> 22\u001b[1;33m     \u001b[0mgray_frame\u001b[0m\u001b[1;33m=\u001b[0m\u001b[0mcv2\u001b[0m\u001b[1;33m.\u001b[0m\u001b[0mcvtColor\u001b[0m\u001b[1;33m(\u001b[0m\u001b[0mframe\u001b[0m\u001b[1;33m,\u001b[0m\u001b[0mcv2\u001b[0m\u001b[1;33m.\u001b[0m\u001b[0mCOLOR_BGR2GRAY\u001b[0m\u001b[1;33m)\u001b[0m\u001b[1;33m\u001b[0m\u001b[1;33m\u001b[0m\u001b[0m\n\u001b[0m\u001b[0;32m     23\u001b[0m     \u001b[0mblur_frame\u001b[0m\u001b[1;33m=\u001b[0m\u001b[0mcv2\u001b[0m\u001b[1;33m.\u001b[0m\u001b[0mGaussianBlur\u001b[0m\u001b[1;33m(\u001b[0m\u001b[0mgray_frame\u001b[0m\u001b[1;33m,\u001b[0m\u001b[1;33m(\u001b[0m\u001b[1;36m15\u001b[0m\u001b[1;33m,\u001b[0m\u001b[1;36m15\u001b[0m\u001b[1;33m)\u001b[0m\u001b[1;33m,\u001b[0m \u001b[1;36m0\u001b[0m\u001b[1;33m)\u001b[0m\u001b[1;33m\u001b[0m\u001b[1;33m\u001b[0m\u001b[0m\n\u001b[0;32m     24\u001b[0m \u001b[1;33m\u001b[0m\u001b[0m\n",
      "\u001b[1;31merror\u001b[0m: OpenCV(4.5.5) D:\\a\\opencv-python\\opencv-python\\opencv\\modules\\imgproc\\src\\color.cpp:182: error: (-215:Assertion failed) !_src.empty() in function 'cv::cvtColor'\n"
     ]
    }
   ],
   "source": [
    "# Capture and display the frames of a video with Python and OpenCV\n",
    "\n",
    "import cv2\n",
    "\n",
    "# Create a VideoCapture object and read the frames from an input file\n",
    "video=cv2.VideoCapture('Videos\\Traffic_Laramie_1.mp4')\n",
    "\n",
    "# Check if the video opened successfully\n",
    "if (video.isOpened()== False): \n",
    "  print(\"Error opening video file\")\n",
    "\n",
    "\n",
    "initial_frame = None\n",
    "\n",
    "\n",
    "# We start an infinite loop and keep reading frames from the webcam until we press 'q'\n",
    "while True:\n",
    "    check, frame = video.read()\n",
    "\n",
    "\n",
    "    # Gray conversion and noise reduction (smoothening)\n",
    "    gray_frame=cv2.cvtColor(frame,cv2.COLOR_BGR2GRAY)\n",
    "    blur_frame=cv2.GaussianBlur(gray_frame,(15,15), 0)\n",
    "\n",
    "    \n",
    "    # The first captured frame is the baseline image\n",
    "    if initial_frame is None:\n",
    "        initial_frame = blur_frame\n",
    "        continue\n",
    "\n",
    "    # The difference between the baseline and the new frame\n",
    "    delta_frame=cv2.absdiff(initial_frame[300:, 0:],blur_frame[300:, 0:])\n",
    "    # The difference (the delta_frame) is converted into a binary image\n",
    "    # If a particular pixel value is greater than a certain threshold (specified by us here as 10),\n",
    "    # it will be assigned the value for White (255) else Black(0)\n",
    "    threshold_frame=cv2.threshold(delta_frame,10,255, cv2.THRESH_BINARY)[1]\n",
    "    \n",
    "\n",
    "    # The cv2.findContours() method we will identify all the contours in our image.\n",
    "    # This method expects 3 parameters, (a) image, (b) contour retrieval mode and\n",
    "    # (c) contour approximation method\n",
    "    (contours,_)=cv2.findContours(threshold_frame,cv2.RETR_TREE,cv2.CHAIN_APPROX_SIMPLE)\n",
    "\n",
    "    for c in contours:\n",
    "        # contourArea() method filters out any small contours\n",
    "        # You can change this value\n",
    "        if cv2.contourArea(c) < 1200:\n",
    "            continue\n",
    "        (x, y, w, h)=cv2.boundingRect(c)\n",
    "        cv2.rectangle(frame[300:], (x, y), (x+w, y+h), (0,255,0), 1)\n",
    "\n",
    "\n",
    "\n",
    "        \n",
    "    # To better understand the application, we can visualise the different frames generated\n",
    "    cv2.imshow('Webcam', frame)\n",
    "#     cv2.imshow('Delta frame', delta_frame)   \n",
    "#     cv2.imshow('Threshold frame', threshold_frame)\n",
    " \n",
    "    \n",
    "\n",
    "    # Stop the program by pressing 'q'    \n",
    "    if cv2.waitKey(1) == ord('q'):\n",
    "    #if check == False:\n",
    "        break\n",
    "        \n",
    "        \n",
    "# After the loop release the video object\n",
    "video.release()\n",
    "\n",
    "# Destroy all the windows\n",
    "cv2.destroyAllWindows()"
   ]
  }
 ],
 "metadata": {
  "kernelspec": {
   "display_name": "Python 3",
   "language": "python",
   "name": "python3"
  },
  "language_info": {
   "codemirror_mode": {
    "name": "ipython",
    "version": 3
   },
   "file_extension": ".py",
   "mimetype": "text/x-python",
   "name": "python",
   "nbconvert_exporter": "python",
   "pygments_lexer": "ipython3",
   "version": "3.8.5"
  }
 },
 "nbformat": 4,
 "nbformat_minor": 4
}
