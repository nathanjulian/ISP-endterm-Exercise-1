{
 "cells": [
  {
   "cell_type": "code",
   "execution_count": 1,
   "metadata": {},
   "outputs": [
    {
     "name": "stdout",
     "output_type": "stream",
     "text": [
      "Requirement already satisfied: pyttsx3 in c:\\users\\natha\\anaconda3\\lib\\site-packages (2.90)\n",
      "Requirement already satisfied: pypiwin32; platform_system == \"Windows\" in c:\\users\\natha\\anaconda3\\lib\\site-packages (from pyttsx3) (223)\n",
      "Requirement already satisfied: comtypes; platform_system == \"Windows\" in c:\\users\\natha\\anaconda3\\lib\\site-packages (from pyttsx3) (1.1.7)\n",
      "Requirement already satisfied: pywin32; platform_system == \"Windows\" in c:\\users\\natha\\anaconda3\\lib\\site-packages (from pyttsx3) (227)\n",
      "Requirement already satisfied: pyttsx3 in c:\\users\\natha\\anaconda3\\lib\\site-packages (2.90)\n",
      "Requirement already satisfied: pywin32 in c:\\users\\natha\\anaconda3\\lib\\site-packages (227)\n",
      "Requirement already satisfied: comtypes; platform_system == \"Windows\" in c:\\users\\natha\\anaconda3\\lib\\site-packages (from pyttsx3) (1.1.7)\n",
      "Requirement already satisfied: pypiwin32; platform_system == \"Windows\" in c:\\users\\natha\\anaconda3\\lib\\site-packages (from pyttsx3) (223)\n",
      "Requirement already satisfied: pyttsx3 in c:\\users\\natha\\anaconda3\\lib\\site-packages (2.90)\n",
      "Requirement already satisfied: numpy in c:\\users\\natha\\anaconda3\\lib\\site-packages (1.19.2)\n",
      "Requirement already satisfied: pypiwin32; platform_system == \"Windows\" in c:\\users\\natha\\anaconda3\\lib\\site-packages (from pyttsx3) (223)\n",
      "Requirement already satisfied: comtypes; platform_system == \"Windows\" in c:\\users\\natha\\anaconda3\\lib\\site-packages (from pyttsx3) (1.1.7)\n",
      "Requirement already satisfied: pywin32; platform_system == \"Windows\" in c:\\users\\natha\\anaconda3\\lib\\site-packages (from pyttsx3) (227)\n",
      "Requirement already satisfied: pyttsx3 in c:\\users\\natha\\anaconda3\\lib\\site-packages (2.90)\n",
      "Requirement already satisfied: opencv-python in c:\\users\\natha\\anaconda3\\lib\\site-packages (4.5.5.62)\n",
      "Requirement already satisfied: pywin32; platform_system == \"Windows\" in c:\\users\\natha\\anaconda3\\lib\\site-packages (from pyttsx3) (227)\n",
      "Requirement already satisfied: comtypes; platform_system == \"Windows\" in c:\\users\\natha\\anaconda3\\lib\\site-packages (from pyttsx3) (1.1.7)\n",
      "Requirement already satisfied: pypiwin32; platform_system == \"Windows\" in c:\\users\\natha\\anaconda3\\lib\\site-packages (from pyttsx3) (223)\n",
      "Requirement already satisfied: numpy>=1.14.5; python_version >= \"3.7\" in c:\\users\\natha\\anaconda3\\lib\\site-packages (from opencv-python) (1.19.2)\n"
     ]
    }
   ],
   "source": [
    "import sys\n",
    "!{sys.executable} -m pip install pyttsx3\n",
    "!{sys.executable} -m pip install pyttsx3 pywin32\n",
    "!{sys.executable} -m pip install pyttsx3 numpy\n",
    "!{sys.executable} -m pip install pyttsx3 opencv-python"
   ]
  },
  {
   "cell_type": "code",
   "execution_count": null,
   "metadata": {},
   "outputs": [],
   "source": []
  }
 ],
 "metadata": {
  "kernelspec": {
   "display_name": "Python 3",
   "language": "python",
   "name": "python3"
  },
  "language_info": {
   "codemirror_mode": {
    "name": "ipython",
    "version": 3
   },
   "file_extension": ".py",
   "mimetype": "text/x-python",
   "name": "python",
   "nbconvert_exporter": "python",
   "pygments_lexer": "ipython3",
   "version": "3.8.5"
  }
 },
 "nbformat": 4,
 "nbformat_minor": 4
}
